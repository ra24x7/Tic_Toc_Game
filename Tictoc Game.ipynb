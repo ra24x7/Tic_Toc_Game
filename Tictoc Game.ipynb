{
 "cells": [
  {
   "cell_type": "code",
   "execution_count": 1,
   "metadata": {},
   "outputs": [],
   "source": [
    "#prinbt the board\n",
    "from IPython.display import clear_output"
   ]
  },
  {
   "cell_type": "code",
   "execution_count": 2,
   "metadata": {},
   "outputs": [],
   "source": [
    "def displayboard(board):\n",
    "    clear_output()\n",
    "    print('   |   |')\n",
    "    print(' ' +board[7]+' | '+board[8]+' | '+board[9])\n",
    "    print('-----------')\n",
    "    print('   |   |')\n",
    "    print(' ' +board[4]+' | '+board[5]+' | '+board[6])\n",
    "    print('   |   |')\n",
    "    print('-----------')\n",
    "    print('   |   |')\n",
    "    print(' ' +board[1]+' | '+board[2]+' | '+board[3])\n",
    "    print('   |   |')\n",
    "    "
   ]
  },
  {
   "cell_type": "code",
   "execution_count": null,
   "metadata": {},
   "outputs": [],
   "source": []
  },
  {
   "cell_type": "code",
   "execution_count": null,
   "metadata": {},
   "outputs": [],
   "source": [
    "displayboard(boardinput)"
   ]
  },
  {
   "cell_type": "code",
   "execution_count": null,
   "metadata": {},
   "outputs": [],
   "source": [
    "def playerinput():\n",
    "    marker=''\n",
    "    while not (marker =='X'or marker =='O'):\n",
    "        marker=input('Player 1 Choose X or O: ').upper()\n",
    "    \n",
    "        if marker=='X':\n",
    "            return('X','O')\n",
    "        else:\n",
    "            return('O','X')\n",
    "        \n",
    "        "
   ]
  },
  {
   "cell_type": "code",
   "execution_count": null,
   "metadata": {},
   "outputs": [],
   "source": [
    "player1marker, player2marker=playerinput()"
   ]
  },
  {
   "cell_type": "code",
   "execution_count": null,
   "metadata": {},
   "outputs": [],
   "source": [
    "player2marker"
   ]
  },
  {
   "cell_type": "code",
   "execution_count": null,
   "metadata": {},
   "outputs": [],
   "source": [
    "def place_marker(board,marker, position):\n",
    "    board[position]=marker"
   ]
  },
  {
   "cell_type": "code",
   "execution_count": null,
   "metadata": {},
   "outputs": [],
   "source": [
    "place_marker(boardinput,'x',3)"
   ]
  },
  {
   "cell_type": "code",
   "execution_count": null,
   "metadata": {},
   "outputs": [],
   "source": []
  },
  {
   "cell_type": "code",
   "execution_count": null,
   "metadata": {},
   "outputs": [],
   "source": [
    "displayboard(boardinput)"
   ]
  },
  {
   "cell_type": "code",
   "execution_count": null,
   "metadata": {},
   "outputs": [],
   "source": [
    "def win_check(board,marker):\n",
    "    return ((boardinput[1]== marker and boardinput[2]==marker and boardinput[3]==marker) or \n",
    "    (boardinput[4]== marker and boardinput[5]== marker and boardinput[6]== marker) or\n",
    "    (boardinput[7]== marker and boardinput[8]== marker and boardinput[9]== marker) or\n",
    "    (boardinput[1]== marker and boardinput[5]== marker and boardinput[9]== marker) or\n",
    "    (boardinput[3]== marker and boardinput[5]== marker and boardinput[7]== marker) or\n",
    "    (boardinput[1]== marker and boardinput[4]== marker and boardinput[7]== marker) or\n",
    "    (boardinput[2]== marker and boardinput[5]== marker and boardinput[8]== marker) or\n",
    "    (boardinput[3]== marker and boardinput[6]== marker and boardinput[9]== marker))\n",
    "    \n",
    "    \n",
    "    \n",
    "    "
   ]
  },
  {
   "cell_type": "code",
   "execution_count": null,
   "metadata": {},
   "outputs": [],
   "source": [
    "win_check(boardinput,'x')"
   ]
  },
  {
   "cell_type": "code",
   "execution_count": null,
   "metadata": {},
   "outputs": [],
   "source": [
    "displayboard(boardinput)"
   ]
  },
  {
   "cell_type": "code",
   "execution_count": null,
   "metadata": {},
   "outputs": [],
   "source": [
    "# Make a random variable to select players randamly\n",
    "import random\n",
    "def who_goes_first():\n",
    "    flip=random.randint(0,1)\n",
    "    if flip==0:\n",
    "        return 'player1'\n",
    "    else :\n",
    "        return 'player2'"
   ]
  },
  {
   "cell_type": "code",
   "execution_count": null,
   "metadata": {},
   "outputs": [],
   "source": [
    "def check_freespace(boardinput, position):\n",
    "    return boardinput[position]==' '\n",
    "    "
   ]
  },
  {
   "cell_type": "code",
   "execution_count": null,
   "metadata": {},
   "outputs": [],
   "source": [
    "def board_full(boardinput):\n",
    "    for i in range(1,10):\n",
    "        if check_freespace(boardinput,i):\n",
    "            return False\n",
    "        return True\n",
    "    "
   ]
  },
  {
   "cell_type": "code",
   "execution_count": null,
   "metadata": {},
   "outputs": [],
   "source": [
    "def player_choice(boardinput):\n",
    "    position= 0\n",
    "    while position not in range(1,10) and check_freespace(boardinput,position):\n",
    "        position=int(input('Choose a position between: (1-9)'))\n",
    "    return position\n"
   ]
  },
  {
   "cell_type": "code",
   "execution_count": null,
   "metadata": {},
   "outputs": [],
   "source": [
    "def replay_game():\n",
    "    choice=int(input('Play again ? Enter Yes or No '))\n",
    "    return choice=='Yes'"
   ]
  },
  {
   "cell_type": "code",
   "execution_count": null,
   "metadata": {},
   "outputs": [],
   "source": [
    "#Combine all functions to run the final game\n",
    "print('Welcome Tic Tac Toe')\n",
    "\n",
    "#call select random player function\n",
    "\n",
    "while True:\n",
    "\n",
    "        #setup the board first\n",
    "\n",
    "        boardinput=[' ']*10\n",
    "        player1marker, player2marker=playerinput()\n",
    "        turn= who_goes_first()\n",
    "        print(turn+' will go first')\n",
    "        play_game=input('Ready to play ? y or n? ')\n",
    "        \n",
    "        if play_game =='y':\n",
    "\n",
    "            game_on = True\n",
    "        else:\n",
    "\n",
    "            game_on = False\n",
    "\n",
    "        while game_on:\n",
    "\n",
    "            if turn=='player1':\n",
    "                #Show the board\n",
    "                displayboard(boardinput)\n",
    "                #choose a position\n",
    "                position = player_choice(boardinput)\n",
    "                #place the marker in that position\n",
    "                place_marker(boardinput,player1marker, position)\n",
    "\n",
    "                # Check winning case\n",
    "                if win_check(boardinput,player1marker):\n",
    "                    displayboard(boardinput)\n",
    "                    print('Player 1 has Won the Game')\n",
    "                    game_on=False\n",
    "                else:\n",
    "                    if board_full(boardinput):\n",
    "                        displayboard(boardinput)\n",
    "                        print('Game is Tie')\n",
    "                        game_on=False\n",
    "                    else:\n",
    "                        turn=='player2'\n",
    "\n",
    "            else:\n",
    "                    displayboard(boardinput)\n",
    "                    #choose a position\n",
    "                    position = player_choice(boardinput)\n",
    "                    #place the marker in that position\n",
    "                    place_marker(boardinput,player2marker, position)\n",
    "                    # Check winning case\n",
    "                    if win_check(boardinput,player2marker):\n",
    "                        displayboard(boardinput)\n",
    "                        print('Player 2 has Won the Game')\n",
    "                        game_on=False \n",
    "                    else:\n",
    "                        if board_full(boardinput):\n",
    "                            displayboard(boardinput)\n",
    "                            print('Game is Tie')\n",
    "                            game_on=False\n",
    "                        else:\n",
    "                            turn=='player1'\n",
    "\n",
    "        if not replay_game():\n",
    "            break\n",
    "    \n"
   ]
  },
  {
   "cell_type": "code",
   "execution_count": null,
   "metadata": {},
   "outputs": [],
   "source": []
  },
  {
   "cell_type": "code",
   "execution_count": null,
   "metadata": {},
   "outputs": [],
   "source": []
  },
  {
   "cell_type": "code",
   "execution_count": null,
   "metadata": {},
   "outputs": [],
   "source": []
  }
 ],
 "metadata": {
  "kernelspec": {
   "display_name": "Python 3",
   "language": "python",
   "name": "python3"
  },
  "language_info": {
   "codemirror_mode": {
    "name": "ipython",
    "version": 3
   },
   "file_extension": ".py",
   "mimetype": "text/x-python",
   "name": "python",
   "nbconvert_exporter": "python",
   "pygments_lexer": "ipython3",
   "version": "3.7.6"
  }
 },
 "nbformat": 4,
 "nbformat_minor": 4
}
